{
 "cells": [
  {
   "cell_type": "code",
   "execution_count": 20,
   "id": "17d3c8ff-c471-45ea-8669-c420808cbf4d",
   "metadata": {},
   "outputs": [],
   "source": [
    "from importlib import resources\n",
    "import sys\n",
    "import inspect\n",
    "from pathlib import Path\n",
    "import traceback\n",
    "import tempfile, os, shutil, time\n",
    "import signal\n",
    "\n",
    "from kinoml.core.ligands import Ligand\n",
    "from kinoml.core.proteins import Protein, KLIFSKinase\n",
    "from kinoml.core.systems import ProteinLigandComplex\n",
    "from kinoml.features.core import Pipeline\n",
    "from kinoml.features.complexes import (\n",
    "    MostSimilarPDBLigandFeaturizer,\n",
    "    KLIFSConformationTemplatesFeaturizer,\n",
    "    OEDockingFeaturizer,\n",
    ")\n",
    "\n",
    "from rdkit import Chem\n",
    "import pandas as pd\n",
    "import requests as req\n",
    "from multiprocessing import Pool, cpu_count\n",
    "import tqdm\n",
    "import numpy as np\n",
    "import dask\n",
    "import dask.dataframe as dd\n",
    "import MDAnalysis as mda"
   ]
  },
  {
   "cell_type": "markdown",
   "id": "7fd9069b-a50f-4e73-a6f4-8e6b968fa093",
   "metadata": {},
   "source": [
    "# Reference results"
   ]
  },
  {
   "cell_type": "code",
   "execution_count": 21,
   "id": "af37c5b4-4de5-487b-bbe2-00de6c4bffd4",
   "metadata": {},
   "outputs": [],
   "source": [
    "DATA_DIR = Path(\"../docking\")\n",
    "similar = pd.read_csv(\n",
    "    DATA_DIR / \"similar.csv\",\n",
    "    names=\"ident uniprot smiles pdb chain ligand_pdb\".split(),\n",
    "    index_col=\"ident\",\n",
    ")\n",
    "pdbs = pd.read_csv(DATA_DIR / \"pdbs.csv\", names=\"ident structure_id\".split(), index_col=\"ident\")\n",
    "data = similar.join(pdbs, on=\"ident\", how=\"inner\")\n",
    "activities = pd.read_csv(DATA_DIR / \"activities-chembl31.csv\", index_col=\"activities.activity_id\")\n",
    "activities.drop(columns=[\"Unnamed: 0\"], inplace=True)\n",
    "activities.index.name = \"ident\"\n",
    "data = data.join(activities, on=\"ident\", how=\"inner\")"
   ]
  },
  {
   "cell_type": "code",
   "execution_count": 22,
   "id": "0f8f91b4-1139-42e3-92dc-5b13a48a4264",
   "metadata": {},
   "outputs": [],
   "source": [
    "NPARTITION = 10\n",
    "TIMEOUT = 60  # in sec\n",
    "\n",
    "# directories\n",
    "HERE = Path(\".\").absolute()\n",
    "CACHE_DIR = HERE / \"docking_pipeline\"\n",
    "MOST_SIMILAR = CACHE_DIR / \"most_similar.csv\"\n",
    "KLIFS_DIR = CACHE_DIR / \"KLIFS\"\n",
    "KLIFS_MAP = CACHE_DIR / \"similar_klifs_structures.csv\"\n",
    "TEMP_DIR = CACHE_DIR / \"temporary\"\n",
    "DOCKING_DIR = CACHE_DIR / \"docking\""
   ]
  },
  {
   "cell_type": "code",
   "execution_count": 23,
   "id": "3ad5d673-00a2-410b-b929-85bb2d830425",
   "metadata": {},
   "outputs": [],
   "source": [
    "kinodata = pd.read_csv(\"data/activities-chembl31.csv\", index_col=0)"
   ]
  },
  {
   "cell_type": "code",
   "execution_count": 28,
   "id": "be309f46-910d-42d3-b224-85341e562873",
   "metadata": {},
   "outputs": [
    {
     "data": {
      "text/plain": [
       "(202592,)"
      ]
     },
     "execution_count": 28,
     "metadata": {},
     "output_type": "execute_result"
    }
   ],
   "source": [
    "kinodata[\"activities.activity_id\"].unique().shape"
   ]
  },
  {
   "cell_type": "code",
   "execution_count": 5,
   "id": "ab39e859-1fbf-42a2-b1cf-cb3a84614e0b",
   "metadata": {},
   "outputs": [],
   "source": [
    "kinodata = kinodata.head(5)"
   ]
  },
  {
   "cell_type": "markdown",
   "id": "77e6193e-1798-45c1-8686-31414a3a58fe",
   "metadata": {
    "tags": []
   },
   "source": [
    "# Find most similar PDBs"
   ]
  },
  {
   "cell_type": "code",
   "execution_count": 29,
   "id": "b7de459d-adee-45df-820b-4b2384c49f15",
   "metadata": {},
   "outputs": [
    {
     "data": {
      "text/html": [
       "<div>\n",
       "<style scoped>\n",
       "    .dataframe tbody tr th:only-of-type {\n",
       "        vertical-align: middle;\n",
       "    }\n",
       "\n",
       "    .dataframe tbody tr th {\n",
       "        vertical-align: top;\n",
       "    }\n",
       "\n",
       "    .dataframe thead th {\n",
       "        text-align: right;\n",
       "    }\n",
       "</style>\n",
       "<table border=\"1\" class=\"dataframe\">\n",
       "  <thead>\n",
       "    <tr style=\"text-align: right;\">\n",
       "      <th></th>\n",
       "      <th>activities.activity_id</th>\n",
       "      <th>similar.ligand_pdb</th>\n",
       "      <th>similar.complex_pdb</th>\n",
       "      <th>similar.chain</th>\n",
       "    </tr>\n",
       "  </thead>\n",
       "  <tbody>\n",
       "    <tr>\n",
       "      <th>0</th>\n",
       "      <td>16291323</td>\n",
       "      <td>VFS</td>\n",
       "      <td>7JOV</td>\n",
       "      <td>A</td>\n",
       "    </tr>\n",
       "    <tr>\n",
       "      <th>1</th>\n",
       "      <td>16306943</td>\n",
       "      <td>5YS</td>\n",
       "      <td>7P6N</td>\n",
       "      <td>A</td>\n",
       "    </tr>\n",
       "    <tr>\n",
       "      <th>2</th>\n",
       "      <td>16264754</td>\n",
       "      <td>J0P</td>\n",
       "      <td>6ED6</td>\n",
       "      <td>A</td>\n",
       "    </tr>\n",
       "    <tr>\n",
       "      <th>3</th>\n",
       "      <td>16340050</td>\n",
       "      <td>J0P</td>\n",
       "      <td>6ED6</td>\n",
       "      <td>A</td>\n",
       "    </tr>\n",
       "    <tr>\n",
       "      <th>4</th>\n",
       "      <td>16340956</td>\n",
       "      <td>J0P</td>\n",
       "      <td>6ED6</td>\n",
       "      <td>A</td>\n",
       "    </tr>\n",
       "    <tr>\n",
       "      <th>...</th>\n",
       "      <td>...</td>\n",
       "      <td>...</td>\n",
       "      <td>...</td>\n",
       "      <td>...</td>\n",
       "    </tr>\n",
       "    <tr>\n",
       "      <th>221259</th>\n",
       "      <td>16276373</td>\n",
       "      <td>1SW</td>\n",
       "      <td>4KSQ</td>\n",
       "      <td>A</td>\n",
       "    </tr>\n",
       "    <tr>\n",
       "      <th>221260</th>\n",
       "      <td>16347116</td>\n",
       "      <td>QF8</td>\n",
       "      <td>6ZCY</td>\n",
       "      <td>A</td>\n",
       "    </tr>\n",
       "    <tr>\n",
       "      <th>221261</th>\n",
       "      <td>16339375</td>\n",
       "      <td>734</td>\n",
       "      <td>4E26</td>\n",
       "      <td>A</td>\n",
       "    </tr>\n",
       "    <tr>\n",
       "      <th>221262</th>\n",
       "      <td>19334839</td>\n",
       "      <td>ESW</td>\n",
       "      <td>6G9M</td>\n",
       "      <td>A</td>\n",
       "    </tr>\n",
       "    <tr>\n",
       "      <th>221263</th>\n",
       "      <td>16306462</td>\n",
       "      <td>AU5</td>\n",
       "      <td>5AP0</td>\n",
       "      <td>A</td>\n",
       "    </tr>\n",
       "  </tbody>\n",
       "</table>\n",
       "<p>221264 rows × 4 columns</p>\n",
       "</div>"
      ],
      "text/plain": [
       "        activities.activity_id similar.ligand_pdb similar.complex_pdb  \\\n",
       "0                     16291323                VFS                7JOV   \n",
       "1                     16306943                5YS                7P6N   \n",
       "2                     16264754                J0P                6ED6   \n",
       "3                     16340050                J0P                6ED6   \n",
       "4                     16340956                J0P                6ED6   \n",
       "...                        ...                ...                 ...   \n",
       "221259                16276373                1SW                4KSQ   \n",
       "221260                16347116                QF8                6ZCY   \n",
       "221261                16339375                734                4E26   \n",
       "221262                19334839                ESW                6G9M   \n",
       "221263                16306462                AU5                5AP0   \n",
       "\n",
       "       similar.chain  \n",
       "0                  A  \n",
       "1                  A  \n",
       "2                  A  \n",
       "3                  A  \n",
       "4                  A  \n",
       "...              ...  \n",
       "221259             A  \n",
       "221260             A  \n",
       "221261             A  \n",
       "221262             A  \n",
       "221263             A  \n",
       "\n",
       "[221264 rows x 4 columns]"
      ]
     },
     "execution_count": 29,
     "metadata": {},
     "output_type": "execute_result"
    }
   ],
   "source": [
    "d = pd.read_csv(\"most_similar.csv\")\n",
    "d"
   ]
  },
  {
   "cell_type": "code",
   "execution_count": 30,
   "id": "ffd4ec92-1695-48d0-81df-05e97fa21065",
   "metadata": {},
   "outputs": [
    {
     "data": {
      "text/plain": [
       "(64,)"
      ]
     },
     "execution_count": 30,
     "metadata": {},
     "output_type": "execute_result"
    }
   ],
   "source": [
    "d[\"activities.activity_id\"].unique().shape"
   ]
  },
  {
   "cell_type": "code",
   "execution_count": 25,
   "id": "9c8639f3-fee5-4d50-a0f1-d9c68e296312",
   "metadata": {},
   "outputs": [
    {
     "name": "stderr",
     "output_type": "stream",
     "text": [
      "Warning (not error because allow_undefined_stereo=True): OEMol has unspecified stereochemistry. oemol.GetTitle(): \n",
      "Problematic atoms are:\n",
      "Atom atomic num: 7, name: , idx: 30, aromatic: False, chiral: True with bonds:\n",
      "bond order: 1, chiral: False to atom atomic num: 6, name: , idx: 29, aromatic: False, chiral: False\n",
      "bond order: 1, chiral: False to atom atomic num: 6, name: , idx: 35, aromatic: False, chiral: False\n",
      "bond order: 1, chiral: False to atom atomic num: 6, name: , idx: 31, aromatic: False, chiral: False\n",
      "Atom atomic num: 6, name: , idx: 33, aromatic: False, chiral: True with bonds:\n",
      "bond order: 1, chiral: False to atom atomic num: 6, name: , idx: 32, aromatic: False, chiral: False\n",
      "bond order: 1, chiral: False to atom atomic num: 8, name: , idx: 34, aromatic: False, chiral: False\n",
      "bond order: 1, chiral: False to atom atomic num: 6, name: , idx: 35, aromatic: False, chiral: False\n",
      "bond order: 1, chiral: False to atom atomic num: 1, name: , idx: 67, aromatic: False, chiral: False\n",
      "\n",
      "Could not read protein structure for <KLIFSKinase name=>, returning None!\n"
     ]
    }
   ],
   "source": [
    "protein = KLIFSKinase(uniprot_id=\"O75116\", toolkit=\"OpenEye\")\n",
    "ligand = Ligand(smiles=\"CCCC(=O)Nc1cccc(-c2nc(Nc3ccc4[nH]ncc4c3)c3cc(OCCN4CCC(O)C4)ccc3n2)c1\")\n",
    "system = ProteinLigandComplex(components=[protein, ligand])\n",
    "\n",
    "klifs_featurizer = KLIFSConformationTemplatesFeaturizer(\n",
    "    similarity_metric=\"fingerprint\",\n",
    "    cache_dir=CACHE_DIR,\n",
    ")\n",
    "\n",
    "docking_featurizer = OEDockingFeaturizer(output_dir=DOCKING_DIR, method=\"Posit\")\n",
    "\n",
    "featurizer = Pipeline([klifs_featurizer, docking_featurizer])\n",
    "\n",
    "systems = featurizer.featurize([system])\n",
    "\n",
    "# system.featurizations['last']"
   ]
  },
  {
   "cell_type": "code",
   "execution_count": 13,
   "id": "158f7867-18ab-4828-b176-cd28b2f7fc2b",
   "metadata": {},
   "outputs": [],
   "source": [
    "system.featurizations[\"last\"].to_csv(\"test.csv\")"
   ]
  },
  {
   "cell_type": "code",
   "execution_count": 17,
   "id": "6ed13d49-700d-4e8a-8c72-73d4b5e63ace",
   "metadata": {
    "tags": []
   },
   "outputs": [],
   "source": [
    "def get_system(args):\n",
    "    ident, uniprot_id, ligand_smiles = args\n",
    "    # try:\n",
    "    protein = KLIFSKinase(uniprot_id=uniprot_id, toolkit=\"MDAnalysis\")\n",
    "    ligand = Ligand(smiles=ligand_smiles)\n",
    "    system = ProteinLigandComplex(components=[protein, ligand])\n",
    "\n",
    "    return system\n",
    "\n",
    "\n",
    "def get_most_similar(args):\n",
    "    featurizer = MostSimilarPDBLigandFeaturizer(\n",
    "        similarity_metric=\"fingerprint\",\n",
    "        cache_dir=CACHE_DIR,\n",
    "    )\n",
    "\n",
    "    system = featurizer.featurize([system])[0]\n",
    "\n",
    "    ligand_id = system.protein.expo_id\n",
    "    pdb_id = system.protein.pdb_id\n",
    "    chain = system.protein.chain_id\n",
    "\n",
    "    return ligand_id, pdb_id, chain\n",
    "\n",
    "    # with open(MOST_SIMILAR, \"a\") as f:\n",
    "    #     f.write(\",\".join(map(str, [ident, ligand_id, pdb_id, chain])) + \"\\n\")\n",
    "    # return 0\n",
    "    # except:\n",
    "    #     return 1"
   ]
  },
  {
   "cell_type": "code",
   "execution_count": 41,
   "id": "2549fe87-f7c0-4238-8a36-caf3a2cd7b48",
   "metadata": {},
   "outputs": [],
   "source": [
    "with open(MOST_SIMILAR, \"w\") as f:\n",
    "    f.write(\"activities.activity_id,similar.ligand_pdb,similar.complex_pdb,similar.chain\\n\")"
   ]
  },
  {
   "cell_type": "code",
   "execution_count": 18,
   "id": "c17ab4b7-0be0-469b-8015-4fee1b51946d",
   "metadata": {
    "tags": []
   },
   "outputs": [],
   "source": [
    "systems = list()\n",
    "for _, row in kinodata.iterrows():\n",
    "    uniprot_id = row[\"UniprotID\"]\n",
    "    ligand_smiles = row[\"compound_structures.canonical_smiles\"]\n",
    "    ident = row[\"activities.activity_id\"]\n",
    "    systems.append(get_system((ident, uniprot_id, ligand_smiles)))"
   ]
  },
  {
   "cell_type": "code",
   "execution_count": 19,
   "id": "521e6a9e-a827-4c97-bbc2-85660e77e272",
   "metadata": {
    "tags": []
   },
   "outputs": [
    {
     "name": "stderr",
     "output_type": "stream",
     "text": [
      "  0%|                                                                                                                                                                    | 0/1 [00:00<?, ?it/s]Warning (not error because allow_undefined_stereo=True): OEMol has unspecified stereochemistry. oemol.GetTitle(): \n",
      "Problematic atoms are:\n",
      "Atom atomic num: 7, name: , idx: 30, aromatic: False, chiral: True with bonds:\n",
      "bond order: 1, chiral: False to atom atomic num: 6, name: , idx: 29, aromatic: False, chiral: False\n",
      "bond order: 1, chiral: False to atom atomic num: 6, name: , idx: 35, aromatic: False, chiral: False\n",
      "bond order: 1, chiral: False to atom atomic num: 6, name: , idx: 31, aromatic: False, chiral: False\n",
      "Atom atomic num: 6, name: , idx: 33, aromatic: False, chiral: True with bonds:\n",
      "bond order: 1, chiral: False to atom atomic num: 6, name: , idx: 32, aromatic: False, chiral: False\n",
      "bond order: 1, chiral: False to atom atomic num: 8, name: , idx: 34, aromatic: False, chiral: False\n",
      "bond order: 1, chiral: False to atom atomic num: 6, name: , idx: 35, aromatic: False, chiral: False\n",
      "bond order: 1, chiral: False to atom atomic num: 1, name: , idx: 67, aromatic: False, chiral: False\n",
      "\n",
      "Warning (not error because allow_undefined_stereo=True): OEMol has unspecified stereochemistry. oemol.GetTitle(): \n",
      "Problematic atoms are:\n",
      "Atom atomic num: 7, name: , idx: 30, aromatic: False, chiral: True with bonds:\n",
      "bond order: 1, chiral: False to atom atomic num: 6, name: , idx: 29, aromatic: False, chiral: False\n",
      "bond order: 1, chiral: False to atom atomic num: 6, name: , idx: 38, aromatic: False, chiral: False\n",
      "bond order: 1, chiral: False to atom atomic num: 6, name: , idx: 31, aromatic: False, chiral: False\n",
      "\n",
      "100%|███████████████████████████████████████████████████████████████████████████████████████████████████████████████████████████████████████████████████████████| 1/1 [02:09<00:00, 129.56s/it]\n"
     ]
    }
   ],
   "source": [
    "CHUNKSIZE = 100\n",
    "# with open(MOST_SIMILAR, \"w\") as f:\n",
    "#     f.write(\"activities.activity_id,similar.ligand_pdb,similar.complex_pdb,similar.chain\\n\")\n",
    "featurized_systems = list()\n",
    "for i in tqdm.tqdm(range(0, len(systems), CHUNKSIZE)):\n",
    "    featurizer = KLIFSConformationTemplatesFeaturizer(\n",
    "        similarity_metric=\"fingerprint\",\n",
    "    )\n",
    "    featurized_systems += featurizer.featurize(systems[i : i + CHUNKSIZE])\n",
    "    for i, system in enumerate(featurized_systems):\n",
    "        system.featurizations[\"last\"].to_csv(f\"{i}.csv\")"
   ]
  },
  {
   "cell_type": "markdown",
   "id": "26fc0021-e8fe-490d-9569-2bec8b3d114b",
   "metadata": {},
   "source": [
    "# Download KLIFS structures"
   ]
  },
  {
   "cell_type": "code",
   "execution_count": 8,
   "id": "ecd8c9e0-f910-4ae2-999a-2c4ec299a97e",
   "metadata": {},
   "outputs": [],
   "source": [
    "ms = pd.read_csv(MOST_SIMILAR)"
   ]
  },
  {
   "cell_type": "code",
   "execution_count": 9,
   "id": "65f03cc0-a8ef-4bd3-a3e9-153d766be00c",
   "metadata": {},
   "outputs": [],
   "source": [
    "kinodata = ms.merge(kinodata, how=\"inner\", on=\"activities.activity_id\")"
   ]
  },
  {
   "cell_type": "code",
   "execution_count": 10,
   "id": "7e733597-0c9f-412e-89b7-ce6141ed5838",
   "metadata": {},
   "outputs": [],
   "source": [
    "# kinodata = dd.from_pandas(kinodata, npartitions=NPARTITION)"
   ]
  },
  {
   "cell_type": "code",
   "execution_count": 43,
   "id": "7b4bc257-6cf9-467d-bb5c-1c0c0efee3eb",
   "metadata": {},
   "outputs": [],
   "source": [
    "def klifs_pdb(\n",
    "    ident,\n",
    "    pdb_id: str,\n",
    "    chain: str,\n",
    "    ligand_id: str,\n",
    "    output_path=Path(\".\").absolute(),\n",
    "    lazy: bool = False,\n",
    "):\n",
    "    \"\"\"\n",
    "    Get the complex PDB from KLIFS.\n",
    "\n",
    "    Parameters\n",
    "    ----------\n",
    "    pdb_id: str\n",
    "        PDB ID.\n",
    "    chain: str\n",
    "        the chain.\n",
    "    ligand_id: str\n",
    "        ligand PDB ID\n",
    "    path: Path, optional\n",
    "        folder to store the structure in.\n",
    "\n",
    "    Returns\n",
    "    -------\n",
    "    file_path: Path\n",
    "        path of the PDB file.\n",
    "    \"\"\"\n",
    "    resp = req.get(\"https://klifs.net/api_v2/structures_pdb_list\", {\"pdb-codes\": pdb_id})\n",
    "    klifs_info = None\n",
    "    resp.raise_for_status()\n",
    "    for info in resp.json():\n",
    "        if (\n",
    "            str(info[\"chain\"]).upper() == str(chain).upper()\n",
    "            and str(info[\"ligand\"]).upper() == str(ligand_id).upper()\n",
    "        ):\n",
    "            if klifs_info is None:\n",
    "                klifs_info = info\n",
    "            elif klifs_info[\"quality_score\"] < info[\"quality_score\"]:\n",
    "                klifs_info = info\n",
    "    if klifs_info is None:\n",
    "        raise ValueError(f\"not found pdb:{pdb_id} chain:{chain} lig_pdb:{ligand_id}\")\n",
    "    structure_ID = klifs_info[\"structure_ID\"]\n",
    "    output_path.mkdir(exist_ok=True)\n",
    "    filename = output_path / f\"{structure_ID}.pdb\"\n",
    "    if not lazy or not filename.exists():\n",
    "        resp = req.get(\n",
    "            \"https://klifs.net/api_v2/structure_get_pdb_complex\", {\"structure_ID\": structure_ID}\n",
    "        )\n",
    "\n",
    "    with open(filename, \"w\") as f:\n",
    "        f.write(resp.text)\n",
    "\n",
    "    with open(KLIFS_MAP, \"a\") as f:\n",
    "        f.write(f\"{ident},{structure_ID}\\n\")\n",
    "\n",
    "    return 0"
   ]
  },
  {
   "cell_type": "code",
   "execution_count": null,
   "id": "f1f82516-bee7-41d3-a33c-2eb1e38e30eb",
   "metadata": {},
   "outputs": [],
   "source": [
    "e = val_errs[0][1]"
   ]
  },
  {
   "cell_type": "code",
   "execution_count": 39,
   "id": "f6feaf00-673e-42d6-92aa-2cf18ee17026",
   "metadata": {},
   "outputs": [
    {
     "name": "stdout",
     "output_type": "stream",
     "text": [
      "(372, 16721, 5498)\r"
     ]
    }
   ],
   "source": [
    "# http_errs = list()\n",
    "val_errs = list()\n",
    "success = 0\n",
    "for x in lost_ids:\n",
    "    print((success, len(http_errs), len(val_errs)), end=\"\\r\", flush=True)\n",
    "    entry = similar.loc[x]\n",
    "    try:\n",
    "        klifs_pdb(x, entry.pdb, entry.chain, entry.ligand_pdb)\n",
    "        success += 1\n",
    "    except req.HTTPError as e:\n",
    "        if e.args[0].startswith(\"400 Client Error: Bad Request for url\"):\n",
    "            http_errs.append(x)\n",
    "        else:\n",
    "            raise e\n",
    "    except ValueError as e:\n",
    "        if e.args[0].startswith(\"not found pdb:\"):\n",
    "            val_errs.append((x, e))\n",
    "        else:\n",
    "            raise e"
   ]
  },
  {
   "cell_type": "code",
   "execution_count": 62,
   "id": "e29d9fe9-bcb2-490e-9f98-c7f2f6697b7e",
   "metadata": {},
   "outputs": [],
   "source": [
    "with open(\"missing_pdbs\", \"w\") as f:\n",
    "    for x in np.unique(similar.loc[http_errs].pdb.values):\n",
    "        f.write(f\"{x}\\n\")"
   ]
  },
  {
   "cell_type": "code",
   "execution_count": 127,
   "id": "25bbae5e-684e-44b9-9baf-c9e9e6fceda5",
   "metadata": {
    "tags": []
   },
   "outputs": [
    {
     "name": "stderr",
     "output_type": "stream",
     "text": [
      "/home/michael/.miniconda3/envs/kinoml/lib/python3.9/site-packages/MDAnalysis/coordinates/PDB.py:753: UserWarning: Unit cell dimensions not found. CRYST1 record set to unitary values.\n",
      "  warnings.warn(\"Unit cell dimensions not found. \"\n",
      "/home/michael/.miniconda3/envs/kinoml/lib/python3.9/site-packages/MDAnalysis/coordinates/PDB.py:1129: UserWarning: Found no information for attr: 'formalcharges' Using default value of '0'\n",
      "  warnings.warn(\"Found no information for attr: '{}'\"\n"
     ]
    }
   ],
   "source": [
    "u = sys.featurizations[\"last\"]\n",
    "with MDAnalysis.Writer(\"universe.pdb\", multiframe=True) as pdb:\n",
    "    # for ts in u.trajectory:\n",
    "    pdb.write(u.select_atoms(\"resname LIG\"))"
   ]
  },
  {
   "cell_type": "code",
   "execution_count": 73,
   "id": "1e21c46d-9bec-4899-ad55-c1ba66f0eecb",
   "metadata": {},
   "outputs": [],
   "source": [
    "with open(\"missing_ligands.csv\", \"w\") as f:\n",
    "    f.write(\"PDB,chain,ligand_PDB\\n\")\n",
    "    for i, row in (\n",
    "        similar.loc[[x[0] for x in val_errs]]\n",
    "        .groupby([\"pdb\", \"chain\", \"ligand_pdb\"])\n",
    "        .agg(len)\n",
    "        .iterrows()\n",
    "    ):\n",
    "        f.write(\",\".join(i) + \"\\n\")"
   ]
  },
  {
   "cell_type": "code",
   "execution_count": 74,
   "id": "9751b234-4ad6-490b-9447-49ed15836f1d",
   "metadata": {},
   "outputs": [],
   "source": [
    "d = pd.read_csv(\"missing_ligands.csv\")"
   ]
  },
  {
   "cell_type": "code",
   "execution_count": 90,
   "id": "7498cd1f-68f1-407b-8df8-ae0b0bea4ab8",
   "metadata": {},
   "outputs": [
    {
     "name": "stderr",
     "output_type": "stream",
     "text": [
      "100%|████████████████████████████████████████████████████████████████████████████████████████████████████████████████████████████████████████████████████████████████████████████████████████████████████████████████████████| 217/217 [00:40<00:00,  5.30it/s]\n"
     ]
    }
   ],
   "source": [
    "with open(\"invalid_ligand_kinases.csv\", \"w\") as f:\n",
    "    for pdb_id in tqdm.tqdm(d.PDB.unique()):\n",
    "        resp = req.get(\"https://klifs.net/api_v2/structures_pdb_list\", {\"pdb-codes\": pdb_id})\n",
    "        klifs_info = None\n",
    "        resp.raise_for_status()\n",
    "\n",
    "        for info in resp.json():\n",
    "            if info[\"ligand\"] == 0:\n",
    "                f.write(f\"{info['structure_ID']}\\n\")"
   ]
  },
  {
   "cell_type": "code",
   "execution_count": 12,
   "id": "803bedf1-993d-419f-a24b-77086dfb1eb0",
   "metadata": {},
   "outputs": [],
   "source": [
    "with open(KLIFS_MAP, \"w\") as f:\n",
    "    f.write(\"activities.activity_id,similar.klifs_structure_id\\n\")"
   ]
  },
  {
   "cell_type": "code",
   "execution_count": 13,
   "id": "97abcf91-e151-44b3-8b9d-13cf32b7dccc",
   "metadata": {},
   "outputs": [],
   "source": [
    "jobs = list()\n",
    "for _, row in kinodata.iterrows():\n",
    "    pdb_id = row[\"similar.complex_pdb\"]\n",
    "    ligand_pdb = row[\"similar.ligand_pdb\"]\n",
    "    chain = row[\"similar.chain\"]\n",
    "    ident = row[\"activities.activity_id\"]\n",
    "    jobs.append(klifs_pdb(ident, pdb_id, chain, ligand_pdb, output_path=KLIFS_DIR, lazy=False))"
   ]
  },
  {
   "cell_type": "markdown",
   "id": "263ab9c1-0d13-4f2e-8285-18702ffe3d6b",
   "metadata": {},
   "source": [
    "# OpenEye Template docking"
   ]
  },
  {
   "cell_type": "code",
   "execution_count": 14,
   "id": "74da0ad9-4ffa-45dd-be4c-ff69f7216b9b",
   "metadata": {},
   "outputs": [],
   "source": [
    "klifs_map = pd.read_csv(KLIFS_MAP)\n",
    "kinodata = klifs_map.merge(kinodata, how=\"inner\", on=\"activities.activity_id\")"
   ]
  },
  {
   "cell_type": "code",
   "execution_count": 15,
   "id": "0d2cee6a-c3ec-4bc9-a8d3-edde669a21c1",
   "metadata": {},
   "outputs": [],
   "source": [
    "class temporary_copy(object):\n",
    "    def __init__(self, original_path):\n",
    "        self.original_path = original_path\n",
    "\n",
    "    def __enter__(self):\n",
    "        temp_dir = tempfile.gettempdir()\n",
    "        base_path = os.path.basename(self.original_path)\n",
    "        self.path = os.path.join(temp_dir, base_path)\n",
    "        shutil.copy2(self.original_path, self.path)\n",
    "        return self.path\n",
    "\n",
    "    def __exit__(self, exc_type, exc_val, exc_tb):\n",
    "        os.remove(self.path)"
   ]
  },
  {
   "cell_type": "code",
   "execution_count": 16,
   "id": "722047c2-fa5e-481f-aed2-b3df47eee582",
   "metadata": {},
   "outputs": [],
   "source": [
    "def handler(signum, frame):\n",
    "    print(\"Stop it already!\")\n",
    "    raise Exception(\"timeout\")"
   ]
  },
  {
   "cell_type": "code",
   "execution_count": 17,
   "id": "901e18b8-5ccc-4f53-805f-a583e7762ed2",
   "metadata": {},
   "outputs": [],
   "source": [
    "# @dask.delayed\n",
    "def posit(ident, pdb_filepath, ligand_smiles, output_dir):\n",
    "    print(pdb_filepath)\n",
    "    protein = Protein.from_file(pdb_filepath)\n",
    "    ligand = Ligand(smiles=ligand_smiles)\n",
    "    system = ProteinLigandComplex(components=[protein, ligand])\n",
    "    featurizer = OEDockingFeaturizer(\n",
    "        output_dir=output_dir, method=\"Posit\", use_multiprocessing=False\n",
    "    )\n",
    "\n",
    "    signal.signal(signal.SIGALRM, handler)\n",
    "    signal.alarm(TIMEOUT)\n",
    "    try:\n",
    "        system = featurizer.featurize([system])[0]\n",
    "    except Exception as exc:\n",
    "        print(exc)\n",
    "        return 1\n",
    "\n",
    "    print(\"write result\")\n",
    "    universe = system.featurizations[\"last\"]\n",
    "    docking_score = universe._topology.docking_score\n",
    "    posit_probability = universe._topology.posit_probability\n",
    "\n",
    "    print(\"write\", output_dir / f\"{ident}_complex.pdb\")\n",
    "    with mda.coordinates.PDB.PDBWriter(output_dir / f\"{activity_id}_complex.pdb\") as w:\n",
    "        w.write(universe)\n",
    "    with mda.coordinates.PDB.PDBWriter(output_dir / f\"{activity_id}_ligand.pdb\") as w:\n",
    "        w.write(universe.select_atoms(\"resname LIG\"))\n",
    "\n",
    "    with open(output_dir / \"docking.csv\", \"a\") as f:\n",
    "        f.write(\n",
    "            \",\".join(list(map(str, [ident, docking_score, posit_probability, duration]))) + \"\\n\"\n",
    "        )\n",
    "    return 0"
   ]
  },
  {
   "cell_type": "code",
   "execution_count": 20,
   "id": "19699d70-4581-4bcc-9ace-1a7b85c0840b",
   "metadata": {},
   "outputs": [
    {
     "name": "stdout",
     "output_type": "stream",
     "text": [
      "/home/michael/Code/kinodata-docking/docking_pipeline/KLIFS/12757.pdb\n"
     ]
    },
    {
     "data": {
      "application/vnd.jupyter.widget-view+json": {
       "model_id": "a3f6d11790c9470d936e1e0daf8b920c",
       "version_major": 2,
       "version_minor": 0
      },
      "text/plain": [
       "OEDockingFeaturizer:   0%|          | 0/1 [00:00<?, ?it/s]"
      ]
     },
     "metadata": {},
     "output_type": "display_data"
    },
    {
     "name": "stderr",
     "output_type": "stream",
     "text": [
      "Warning (not error because allow_undefined_stereo=True): OEMol has unspecified stereochemistry. oemol.GetTitle(): \n",
      "Problematic atoms are:\n",
      "Atom atomic num: 7, name: , idx: 30, aromatic: False, chiral: True with bonds:\n",
      "bond order: 1, chiral: False to atom atomic num: 6, name: , idx: 29, aromatic: False, chiral: False\n",
      "bond order: 1, chiral: False to atom atomic num: 6, name: , idx: 35, aromatic: False, chiral: False\n",
      "bond order: 1, chiral: False to atom atomic num: 6, name: , idx: 31, aromatic: False, chiral: False\n",
      "Atom atomic num: 6, name: , idx: 33, aromatic: False, chiral: True with bonds:\n",
      "bond order: 1, chiral: False to atom atomic num: 6, name: , idx: 32, aromatic: False, chiral: False\n",
      "bond order: 1, chiral: False to atom atomic num: 8, name: , idx: 34, aromatic: False, chiral: False\n",
      "bond order: 1, chiral: False to atom atomic num: 6, name: , idx: 35, aromatic: False, chiral: False\n",
      "bond order: 1, chiral: False to atom atomic num: 1, name: , idx: 67, aromatic: False, chiral: False\n",
      "\n"
     ]
    },
    {
     "name": "stdout",
     "output_type": "stream",
     "text": [
      "Stop it already!\n",
      "timeout\n",
      "/home/michael/Code/kinodata-docking/docking_pipeline/KLIFS/14314.pdb\n"
     ]
    },
    {
     "data": {
      "application/vnd.jupyter.widget-view+json": {
       "model_id": "70c429106cac41e98a06c29e311439dd",
       "version_major": 2,
       "version_minor": 0
      },
      "text/plain": [
       "OEDockingFeaturizer:   0%|          | 0/1 [00:00<?, ?it/s]"
      ]
     },
     "metadata": {},
     "output_type": "display_data"
    },
    {
     "name": "stdout",
     "output_type": "stream",
     "text": [
      "Stop it already!\n",
      "timeout\n",
      "/home/michael/Code/kinodata-docking/docking_pipeline/KLIFS/10689.pdb\n"
     ]
    },
    {
     "data": {
      "application/vnd.jupyter.widget-view+json": {
       "model_id": "de8b000f37884591ad6fbb6d9d8ef5f3",
       "version_major": 2,
       "version_minor": 0
      },
      "text/plain": [
       "OEDockingFeaturizer:   0%|          | 0/1 [00:00<?, ?it/s]"
      ]
     },
     "metadata": {},
     "output_type": "display_data"
    },
    {
     "name": "stderr",
     "output_type": "stream",
     "text": [
      "Warning (not error because allow_undefined_stereo=True): OEMol has unspecified stereochemistry. oemol.GetTitle(): \n",
      "Problematic atoms are:\n",
      "Atom atomic num: 7, name: , idx: 30, aromatic: False, chiral: True with bonds:\n",
      "bond order: 1, chiral: False to atom atomic num: 6, name: , idx: 29, aromatic: False, chiral: False\n",
      "bond order: 1, chiral: False to atom atomic num: 6, name: , idx: 38, aromatic: False, chiral: False\n",
      "bond order: 1, chiral: False to atom atomic num: 6, name: , idx: 31, aromatic: False, chiral: False\n",
      "\n"
     ]
    },
    {
     "name": "stdout",
     "output_type": "stream",
     "text": [
      "Stop it already!\n",
      "timeout\n",
      "/home/michael/Code/kinodata-docking/docking_pipeline/KLIFS/10689.pdb\n"
     ]
    },
    {
     "data": {
      "application/vnd.jupyter.widget-view+json": {
       "model_id": "9ca72047f6ea4fba91d181571f62fba7",
       "version_major": 2,
       "version_minor": 0
      },
      "text/plain": [
       "OEDockingFeaturizer:   0%|          | 0/1 [00:00<?, ?it/s]"
      ]
     },
     "metadata": {},
     "output_type": "display_data"
    },
    {
     "name": "stdout",
     "output_type": "stream",
     "text": [
      "Stop it already!\n",
      "timeout\n",
      "/home/michael/Code/kinodata-docking/docking_pipeline/KLIFS/10689.pdb\n"
     ]
    },
    {
     "data": {
      "application/vnd.jupyter.widget-view+json": {
       "model_id": "b13c24c2aa694221923b476a76270eeb",
       "version_major": 2,
       "version_minor": 0
      },
      "text/plain": [
       "OEDockingFeaturizer:   0%|          | 0/1 [00:00<?, ?it/s]"
      ]
     },
     "metadata": {},
     "output_type": "display_data"
    },
    {
     "name": "stdout",
     "output_type": "stream",
     "text": [
      "Stop it already!\n",
      "timeout\n"
     ]
    }
   ],
   "source": [
    "jobs = list()\n",
    "for _, row in kinodata.iterrows():\n",
    "    ident = row[\"activities.activity_id\"]\n",
    "    pdb_filepath = KLIFS_DIR / (str(row[\"similar.klifs_structure_id\"]) + \".pdb\")\n",
    "    ligand_smiles = row[\"compound_structures.canonical_smiles\"]\n",
    "    jobs.append(posit(ident, pdb_filepath, ligand_smiles, DOCKING_DIR))"
   ]
  },
  {
   "cell_type": "code",
   "execution_count": null,
   "id": "aed988fb-de45-4873-9758-a8a6700db405",
   "metadata": {},
   "outputs": [],
   "source": []
  }
 ],
 "metadata": {
  "kernelspec": {
   "display_name": "Python 3 (ipykernel)",
   "language": "python",
   "name": "python3"
  },
  "language_info": {
   "codemirror_mode": {
    "name": "ipython",
    "version": 3
   },
   "file_extension": ".py",
   "mimetype": "text/x-python",
   "name": "python",
   "nbconvert_exporter": "python",
   "pygments_lexer": "ipython3",
   "version": "3.9.16"
  }
 },
 "nbformat": 4,
 "nbformat_minor": 5
}
